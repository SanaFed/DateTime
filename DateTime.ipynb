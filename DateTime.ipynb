{
 "cells": [
  {
   "cell_type": "code",
   "execution_count": 3,
   "id": "df4400d9",
   "metadata": {},
   "outputs": [
    {
     "name": "stdout",
     "output_type": "stream",
     "text": [
      "14:42:05.000566\n"
     ]
    }
   ],
   "source": [
    "# Print a specific timestamp: 14:42:05.000566\n",
    "\n",
    "from datetime import time \n",
    "\n",
    "t = time(14, 42, 5, 566)\n",
    "\n",
    "print(t)"
   ]
  },
  {
   "cell_type": "code",
   "execution_count": 15,
   "id": "c4a8183c",
   "metadata": {},
   "outputs": [
    {
     "name": "stdout",
     "output_type": "stream",
     "text": [
      "2019/01/28 23:55:59.001023\n"
     ]
    }
   ],
   "source": [
    "# Print a specific date and timestamp: 2019/01/28 23:55:59.1023\n",
    "\n",
    "from datetime import datetime \n",
    "\n",
    "dt = datetime(2019, 1, 28, 23, 55, 59, 1023)\n",
    "\n",
    "print(dt.strftime(\"%Y/%m/%d %H:%M:%S.%f\"))"
   ]
  },
  {
   "cell_type": "code",
   "execution_count": 24,
   "id": "41b22090",
   "metadata": {},
   "outputs": [
    {
     "name": "stdout",
     "output_type": "stream",
     "text": [
      "Current year: 2022\n",
      "Current month: 9\n",
      "Current day: 17\n"
     ]
    }
   ],
   "source": [
    "# Print today's date (current day)\n",
    "\n",
    "from datetime import date\n",
    "\n",
    "current_date = date.today()\n",
    "\n",
    "print(\"Current year:\", current_date.year)\n",
    "print(\"Current month:\", current_date.month)\n",
    "print(\"Current day:\", current_date.day)"
   ]
  },
  {
   "cell_type": "code",
   "execution_count": 42,
   "id": "25a947d5",
   "metadata": {},
   "outputs": [
    {
     "name": "stdout",
     "output_type": "stream",
     "text": [
      "28 January 2017\n",
      "Saturday\n"
     ]
    }
   ],
   "source": [
    "# Print a day from a datetime object: 28 January 2017\n",
    "# Version 1\n",
    "\n",
    "from datetime import date\n",
    "\n",
    "x = date(2017, 1, 28)\n",
    "\n",
    "print(x.strftime(\"%d %B %Y\"))\n",
    "print(x.strftime('%A'))"
   ]
  },
  {
   "cell_type": "code",
   "execution_count": 43,
   "id": "d7668ae1",
   "metadata": {},
   "outputs": [
    {
     "name": "stdout",
     "output_type": "stream",
     "text": [
      "28 January 2017\n",
      "Saturday\n"
     ]
    }
   ],
   "source": [
    "# Print a day from a datetime object: 28 January 2017\n",
    "# Version 2\n",
    "\n",
    "date_string = \"28 January 2017\"\n",
    "\n",
    "date_object = datetime.strptime(date_string, \"%d %B %Y\")\n",
    "\n",
    "print(date_object.strftime(\"%d %B %Y\"))\n",
    "print(date_object.strftime('%A'))"
   ]
  }
 ],
 "metadata": {
  "kernelspec": {
   "display_name": "Python 3 (ipykernel)",
   "language": "python",
   "name": "python3"
  },
  "language_info": {
   "codemirror_mode": {
    "name": "ipython",
    "version": 3
   },
   "file_extension": ".py",
   "mimetype": "text/x-python",
   "name": "python",
   "nbconvert_exporter": "python",
   "pygments_lexer": "ipython3",
   "version": "3.9.12"
  }
 },
 "nbformat": 4,
 "nbformat_minor": 5
}
